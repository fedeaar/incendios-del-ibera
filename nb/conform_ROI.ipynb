{
 "cells": [
  {
   "cell_type": "code",
   "execution_count": 1,
   "id": "a05ead50",
   "metadata": {},
   "outputs": [],
   "source": [
    "import json"
   ]
  },
  {
   "cell_type": "code",
   "execution_count": 2,
   "id": "03b6e709",
   "metadata": {},
   "outputs": [],
   "source": [
    "y = {}\n",
    "with open('../src/ecoregiones.geojson', 'r', encoding='utf-8') as wf:\n",
    "    y = json.loads(wf.read())\n",
    "y['features'] = [x for x in y['features'] if  x['id']=='arg_ecorregiones.10']\n",
    "with open('../gen/geometrias/ecorregiones_esteros.geojson', 'w', encoding='utf-8') as wf:\n",
    "    wf.write(json.dumps(y))"
   ]
  },
  {
   "cell_type": "code",
   "execution_count": 3,
   "id": "0069f48f",
   "metadata": {},
   "outputs": [],
   "source": [
    "y = {}\n",
    "with open('../src/areasProtegidasProvinciales.geojson', 'r', encoding='utf-8') as wf:\n",
    "    y = json.loads(wf.read())\n",
    "y['features'] = [x for x in y['features'] if  x['id']=='arg_aps_provinciales.27']\n",
    "with open('../gen/geometrias/areasProtegidasProvinciales_ibera.geojson', 'w', encoding='utf-8') as wf:\n",
    "    wf.write(json.dumps(y))"
   ]
  },
  {
   "cell_type": "code",
   "execution_count": 4,
   "id": "abd3374c",
   "metadata": {},
   "outputs": [],
   "source": [
    "y = {}\n",
    "d = 'apn_limites'\n",
    "with open('../src/areasProtegidasNacionales.geojson', 'r', encoding='utf-8') as wf:\n",
    "    y = json.loads(wf.read())\n",
    "features = [x for x in y['features']]\n",
    "y['features'] = [x for x in features if  x['id'] == f'{d}.221']\n",
    "with open('../gen/geometrias/areasProtegidasNacionales_mburucuya.geojson', 'w', encoding='utf-8') as wf:\n",
    "    wf.write(json.dumps(y))\n",
    "y['features'] = [x for x in features if  x['id'] == f'{d}.251']\n",
    "with open('../gen/geometrias/areasProtegidasNacionales_ibera.geojson', 'w', encoding='utf-8') as wf:\n",
    "    wf.write(json.dumps(y))"
   ]
  }
 ],
 "metadata": {
  "kernelspec": {
   "display_name": "Python 3 (ipykernel)",
   "language": "python",
   "name": "python3"
  },
  "language_info": {
   "codemirror_mode": {
    "name": "ipython",
    "version": 3
   },
   "file_extension": ".py",
   "mimetype": "text/x-python",
   "name": "python",
   "nbconvert_exporter": "python",
   "pygments_lexer": "ipython3",
   "version": "3.9.7"
  }
 },
 "nbformat": 4,
 "nbformat_minor": 5
}
